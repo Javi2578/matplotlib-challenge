{
 "cells": [
  {
   "cell_type": "code",
   "execution_count": null,
   "id": "8952ec46-230c-4be2-aeba-cae98c11097e",
   "metadata": {},
   "outputs": [],
   "source": []
  },
  {
   "cell_type": "code",
   "execution_count": 197,
   "id": "ad81dc0c",
   "metadata": {
    "tags": []
   },
   "outputs": [],
   "source": [
    "#DEPENDENCIES AND SETUP\n",
    "import matplotlib.pyplot as plt\n",
    "import pandas as pd\n",
    "import scipy.stats as st\n",
    "%matplotlib inline"
   ]
  },
  {
   "cell_type": "code",
   "execution_count": 198,
   "id": "5944a0b0-7636-4f40-a60a-dff77e91b47f",
   "metadata": {
    "tags": []
   },
   "outputs": [],
   "source": [
    "#Study data files \n",
    "mouse_metadata_path = \"data/Mouse_metadata.csv\"\n",
    "study_results_path = \"data/Study_results.csv\"\n"
   ]
  },
  {
   "cell_type": "code",
   "execution_count": 199,
   "id": "288b7b3a",
   "metadata": {
    "tags": []
   },
   "outputs": [],
   "source": [
    "# Read the mouse data and the study results\n",
    "mouse_metadata = pd.read_csv(mouse_metadata_path)\n",
    "study_results = pd.read_csv(study_results_path)\n"
   ]
  },
  {
   "cell_type": "code",
   "execution_count": null,
   "id": "7469d90b-f91c-4137-b61c-84acb534dd9a",
   "metadata": {},
   "outputs": [],
   "source": []
  },
  {
   "cell_type": "code",
   "execution_count": 200,
   "id": "552e4300-8f50-446e-91dd-ffeaf72687ba",
   "metadata": {
    "tags": []
   },
   "outputs": [],
   "source": [
    "# Combine the data into a single dataset\n",
    "# notes you need to merge data then especifiy how= \"let \", on = \"Mouse ID\"\n",
    "merged_data = pd.merge(study_results, mouse_metadata , how = \"left\", on = \"Mouse ID\")\n"
   ]
  },
  {
   "cell_type": "code",
   "execution_count": 201,
   "id": "be053e14-7573-42f8-946d-e865f48f229b",
   "metadata": {},
   "outputs": [
    {
     "name": "stdout",
     "output_type": "stream",
     "text": [
      "  Mouse ID  Timepoint  Tumor Volume (mm3)  Metastatic Sites Drug Regimen  \\\n",
      "0     b128          0                45.0                 0    Capomulin   \n",
      "1     f932          0                45.0                 0     Ketapril   \n",
      "2     g107          0                45.0                 0     Ketapril   \n",
      "3     a457          0                45.0                 0     Ketapril   \n",
      "4     c819          0                45.0                 0     Ketapril   \n",
      "\n",
      "      Sex  Age_months  Weight (g)  \n",
      "0  Female           9          22  \n",
      "1    Male          15          29  \n",
      "2  Female           2          29  \n",
      "3  Female          11          30  \n",
      "4    Male          21          25  \n"
     ]
    }
   ],
   "source": [
    "#look at the data first 5 lines \n",
    "print (merged_data.head())"
   ]
  },
  {
   "cell_type": "code",
   "execution_count": 202,
   "id": "e317f4f6-b5c5-43a3-8794-1e3d6d1c45eb",
   "metadata": {},
   "outputs": [
    {
     "data": {
      "text/plain": [
       "249"
      ]
     },
     "execution_count": 202,
     "metadata": {},
     "output_type": "execute_result"
    }
   ],
   "source": [
    "# Checking the number of mice.\n",
    "len(merged_data[\"Mouse ID\"].unique())"
   ]
  },
  {
   "cell_type": "code",
   "execution_count": null,
   "id": "59751dde-26fd-4ce4-943a-e119cda2b3b4",
   "metadata": {},
   "outputs": [],
   "source": []
  },
  {
   "cell_type": "code",
   "execution_count": 203,
   "id": "a54d0f36-adaf-42b4-a45d-a76c72b1c1f3",
   "metadata": {
    "tags": []
   },
   "outputs": [
    {
     "data": {
      "text/plain": [
       "array(['g989'], dtype=object)"
      ]
     },
     "execution_count": 203,
     "metadata": {},
     "output_type": "execute_result"
    }
   ],
   "source": [
    "# Our data should be uniquely identified by Mouse ID and Timepoint\n",
    "\n",
    "\n",
    "# Get the duplicate mice by ID number that shows up for Mouse ID and Timepoint\n",
    "\n",
    "duplicate_mouse_ids = merged_data.loc[merged_data.duplicated(subset=['Mouse ID', 'Timepoint']),'Mouse ID'].unique()\n",
    "duplicate_mouse_ids\n"
   ]
  },
  {
   "cell_type": "code",
   "execution_count": 204,
   "id": "770b4b15-a416-4a48-9eb8-dc2875e31d80",
   "metadata": {
    "tags": []
   },
   "outputs": [],
   "source": [
    "#identify duplicate Mouse ID-- removed causinfg error \n",
    "#duplicate_mouse_ids = duplicate_data['Mouse ID'].unique()"
   ]
  },
  {
   "cell_type": "code",
   "execution_count": null,
   "id": "1b6b8dd7-91c8-48ef-afb1-b20b5b337d51",
   "metadata": {},
   "outputs": [],
   "source": []
  },
  {
   "cell_type": "code",
   "execution_count": 205,
   "id": "62edf870-458d-462b-8618-3d7137d4bd61",
   "metadata": {
    "tags": []
   },
   "outputs": [],
   "source": [
    "# Create a clean DataFrame by dropping the duplicate mouse by its ID.\n",
    "clean_data = merged_data[merged_data['Mouse ID'].isin(duplicate_mouse_ids)== False]"
   ]
  },
  {
   "cell_type": "code",
   "execution_count": 206,
   "id": "4d4568b3-8dfd-4c3d-9300-e9ef10e92486",
   "metadata": {
    "tags": []
   },
   "outputs": [
    {
     "data": {
      "text/html": [
       "<div>\n",
       "<style scoped>\n",
       "    .dataframe tbody tr th:only-of-type {\n",
       "        vertical-align: middle;\n",
       "    }\n",
       "\n",
       "    .dataframe tbody tr th {\n",
       "        vertical-align: top;\n",
       "    }\n",
       "\n",
       "    .dataframe thead th {\n",
       "        text-align: right;\n",
       "    }\n",
       "</style>\n",
       "<table border=\"1\" class=\"dataframe\">\n",
       "  <thead>\n",
       "    <tr style=\"text-align: right;\">\n",
       "      <th></th>\n",
       "      <th>Mouse ID</th>\n",
       "      <th>Timepoint</th>\n",
       "      <th>Tumor Volume (mm3)</th>\n",
       "      <th>Metastatic Sites</th>\n",
       "      <th>Drug Regimen</th>\n",
       "      <th>Sex</th>\n",
       "      <th>Age_months</th>\n",
       "      <th>Weight (g)</th>\n",
       "    </tr>\n",
       "  </thead>\n",
       "  <tbody>\n",
       "    <tr>\n",
       "      <th>0</th>\n",
       "      <td>b128</td>\n",
       "      <td>0</td>\n",
       "      <td>45.000000</td>\n",
       "      <td>0</td>\n",
       "      <td>Capomulin</td>\n",
       "      <td>Female</td>\n",
       "      <td>9</td>\n",
       "      <td>22</td>\n",
       "    </tr>\n",
       "    <tr>\n",
       "      <th>1</th>\n",
       "      <td>f932</td>\n",
       "      <td>0</td>\n",
       "      <td>45.000000</td>\n",
       "      <td>0</td>\n",
       "      <td>Ketapril</td>\n",
       "      <td>Male</td>\n",
       "      <td>15</td>\n",
       "      <td>29</td>\n",
       "    </tr>\n",
       "    <tr>\n",
       "      <th>2</th>\n",
       "      <td>g107</td>\n",
       "      <td>0</td>\n",
       "      <td>45.000000</td>\n",
       "      <td>0</td>\n",
       "      <td>Ketapril</td>\n",
       "      <td>Female</td>\n",
       "      <td>2</td>\n",
       "      <td>29</td>\n",
       "    </tr>\n",
       "    <tr>\n",
       "      <th>3</th>\n",
       "      <td>a457</td>\n",
       "      <td>0</td>\n",
       "      <td>45.000000</td>\n",
       "      <td>0</td>\n",
       "      <td>Ketapril</td>\n",
       "      <td>Female</td>\n",
       "      <td>11</td>\n",
       "      <td>30</td>\n",
       "    </tr>\n",
       "    <tr>\n",
       "      <th>4</th>\n",
       "      <td>c819</td>\n",
       "      <td>0</td>\n",
       "      <td>45.000000</td>\n",
       "      <td>0</td>\n",
       "      <td>Ketapril</td>\n",
       "      <td>Male</td>\n",
       "      <td>21</td>\n",
       "      <td>25</td>\n",
       "    </tr>\n",
       "    <tr>\n",
       "      <th>...</th>\n",
       "      <td>...</td>\n",
       "      <td>...</td>\n",
       "      <td>...</td>\n",
       "      <td>...</td>\n",
       "      <td>...</td>\n",
       "      <td>...</td>\n",
       "      <td>...</td>\n",
       "      <td>...</td>\n",
       "    </tr>\n",
       "    <tr>\n",
       "      <th>1888</th>\n",
       "      <td>r944</td>\n",
       "      <td>45</td>\n",
       "      <td>41.581521</td>\n",
       "      <td>2</td>\n",
       "      <td>Capomulin</td>\n",
       "      <td>Male</td>\n",
       "      <td>12</td>\n",
       "      <td>25</td>\n",
       "    </tr>\n",
       "    <tr>\n",
       "      <th>1889</th>\n",
       "      <td>u364</td>\n",
       "      <td>45</td>\n",
       "      <td>31.023923</td>\n",
       "      <td>3</td>\n",
       "      <td>Capomulin</td>\n",
       "      <td>Male</td>\n",
       "      <td>18</td>\n",
       "      <td>17</td>\n",
       "    </tr>\n",
       "    <tr>\n",
       "      <th>1890</th>\n",
       "      <td>p438</td>\n",
       "      <td>45</td>\n",
       "      <td>61.433892</td>\n",
       "      <td>1</td>\n",
       "      <td>Ceftamin</td>\n",
       "      <td>Female</td>\n",
       "      <td>11</td>\n",
       "      <td>26</td>\n",
       "    </tr>\n",
       "    <tr>\n",
       "      <th>1891</th>\n",
       "      <td>x773</td>\n",
       "      <td>45</td>\n",
       "      <td>58.634971</td>\n",
       "      <td>4</td>\n",
       "      <td>Placebo</td>\n",
       "      <td>Female</td>\n",
       "      <td>21</td>\n",
       "      <td>30</td>\n",
       "    </tr>\n",
       "    <tr>\n",
       "      <th>1892</th>\n",
       "      <td>b879</td>\n",
       "      <td>45</td>\n",
       "      <td>72.555239</td>\n",
       "      <td>2</td>\n",
       "      <td>Stelasyn</td>\n",
       "      <td>Female</td>\n",
       "      <td>4</td>\n",
       "      <td>26</td>\n",
       "    </tr>\n",
       "  </tbody>\n",
       "</table>\n",
       "<p>1880 rows × 8 columns</p>\n",
       "</div>"
      ],
      "text/plain": [
       "     Mouse ID  Timepoint  Tumor Volume (mm3)  Metastatic Sites Drug Regimen  \\\n",
       "0        b128          0           45.000000                 0    Capomulin   \n",
       "1        f932          0           45.000000                 0     Ketapril   \n",
       "2        g107          0           45.000000                 0     Ketapril   \n",
       "3        a457          0           45.000000                 0     Ketapril   \n",
       "4        c819          0           45.000000                 0     Ketapril   \n",
       "...       ...        ...                 ...               ...          ...   \n",
       "1888     r944         45           41.581521                 2    Capomulin   \n",
       "1889     u364         45           31.023923                 3    Capomulin   \n",
       "1890     p438         45           61.433892                 1     Ceftamin   \n",
       "1891     x773         45           58.634971                 4      Placebo   \n",
       "1892     b879         45           72.555239                 2     Stelasyn   \n",
       "\n",
       "         Sex  Age_months  Weight (g)  \n",
       "0     Female           9          22  \n",
       "1       Male          15          29  \n",
       "2     Female           2          29  \n",
       "3     Female          11          30  \n",
       "4       Male          21          25  \n",
       "...      ...         ...         ...  \n",
       "1888    Male          12          25  \n",
       "1889    Male          18          17  \n",
       "1890  Female          11          26  \n",
       "1891  Female          21          30  \n",
       "1892  Female           4          26  \n",
       "\n",
       "[1880 rows x 8 columns]"
      ]
     },
     "execution_count": 206,
     "metadata": {},
     "output_type": "execute_result"
    }
   ],
   "source": [
    "#print(clean_data )\n",
    "clean_data\n"
   ]
  },
  {
   "cell_type": "code",
   "execution_count": null,
   "id": "5a027a45-d962-4453-8aa3-75732dd217f2",
   "metadata": {},
   "outputs": [],
   "source": []
  },
  {
   "cell_type": "code",
   "execution_count": 207,
   "id": "82072732-15be-4bc7-96c8-79bfdf57f4d1",
   "metadata": {
    "tags": []
   },
   "outputs": [
    {
     "data": {
      "text/plain": [
       "248"
      ]
     },
     "execution_count": 207,
     "metadata": {},
     "output_type": "execute_result"
    }
   ],
   "source": [
    "# Checking the number of mice in the clean DataFrame.\n",
    "len(clean_data[\"Mouse ID\"].unique())\n"
   ]
  },
  {
   "cell_type": "markdown",
   "id": "367724b4-89fa-47b7-a98d-ffcb52f91822",
   "metadata": {},
   "source": [
    "Summary Statistics"
   ]
  },
  {
   "cell_type": "code",
   "execution_count": null,
   "id": "2dbd7597-db7d-480e-bd6f-7dae808aec58",
   "metadata": {},
   "outputs": [],
   "source": []
  },
  {
   "cell_type": "code",
   "execution_count": 208,
   "id": "6ff783f8-44fb-4cb7-a350-95991d992200",
   "metadata": {},
   "outputs": [],
   "source": [
    "# Generate a summary statistics table of mean, median, variance, standard deviation, and SEM of the tumor volume for each regimen\n",
    "# Assemble into DataFrame summary_stats = pd.DataFrame({ 'Mean Tumor Volume': mean_tumor_vol, 'Median Tumor Volume': median_tumor_vol, 'Tumor Volume Variance': variance_tumor_vol, 'Tumor Volume Std. Dev.': std_dev_tumor_vol, 'Tumor Volume SEM': sem_tumor_vol }) print(summary_stats) This code calculates the mean, median, variance, standard deviation, and SEM of the tumor volume for each drug regimen and assembles the resulting series into a single summary DataFrame. Let me know if you need any further assistance!\n",
    "# Use groupby and summary statistical methods to calculate the following properties of each drug regimen: \n",
    "# mean, median, variance, standard deviation, and SEM of the tumor volume. \n",
    "# Assemble the resulting series into a single summary DataFrame.\n",
    "\n",
    "#group by drug regimen \n"
   ]
  },
  {
   "cell_type": "code",
   "execution_count": 209,
   "id": "123d8d1a-3dec-4c17-9162-f7b6b904d02b",
   "metadata": {},
   "outputs": [],
   "source": [
    "#create a data frame and mane it clean_data\n",
    "clean_data =pd.DataFrame(clean_data)"
   ]
  },
  {
   "cell_type": "code",
   "execution_count": null,
   "id": "a1d0dd01-bdc2-489e-86a1-ff01504b18c8",
   "metadata": {},
   "outputs": [],
   "source": []
  },
  {
   "cell_type": "code",
   "execution_count": null,
   "id": "af0f759f-6161-42a2-9830-485bb6b26b5e",
   "metadata": {},
   "outputs": [],
   "source": []
  },
  {
   "cell_type": "code",
   "execution_count": 210,
   "id": "a3bf7a64-7ecd-4b78-b371-2ed0eb841026",
   "metadata": {},
   "outputs": [],
   "source": [
    "#group by drug regimen\n",
    "grouped_df = clean_data.groupby('Drug Regimen')\n"
   ]
  },
  {
   "cell_type": "code",
   "execution_count": 211,
   "id": "0babc795-85ad-44e2-8ca5-1cb0539a4aa5",
   "metadata": {
    "tags": []
   },
   "outputs": [],
   "source": [
    "#Calculate statistics\n",
    "mean_tumor_vol = grouped_df['Tumor Volume (mm3)'].mean()\n",
    "median_tumor_vol = grouped_df['Tumor Volume (mm3)'].median()\n",
    "variance_tumor_vol = grouped_df['Tumor Volume (mm3)'].var()\n",
    "std_dev_tumor_vol = grouped_df['Tumor Volume (mm3)'].std()\n",
    "sem_tumor_vol = grouped_df['Tumor Volume (mm3)'].sem()"
   ]
  },
  {
   "cell_type": "code",
   "execution_count": 212,
   "id": "0eecc9a3-2c75-41ee-8867-6efc03aa5327",
   "metadata": {
    "tags": []
   },
   "outputs": [
    {
     "name": "stdout",
     "output_type": "stream",
     "text": [
      "              Mean Tumor Volume  Median Tumor Volume  Tumor Volume Variance  \\\n",
      "Drug Regimen                                                                  \n",
      "Capomulin             40.675741            41.557809              24.947764   \n",
      "Ceftamin              52.591172            51.776157              39.290177   \n",
      "Infubinol             52.884795            51.820584              43.128684   \n",
      "Ketapril              55.235638            53.698743              68.553577   \n",
      "Naftisol              54.331565            52.509285              66.173479   \n",
      "Placebo               54.033581            52.288934              61.168083   \n",
      "Propriva              52.320930            50.446266              43.852013   \n",
      "Ramicane              40.216745            40.673236              23.486704   \n",
      "Stelasyn              54.233149            52.431737              59.450562   \n",
      "Zoniferol             53.236507            51.818479              48.533355   \n",
      "\n",
      "              Tumor Volume std. Dev.  Tumor Volume SEM  \n",
      "Drug Regimen                                            \n",
      "Capomulin                   4.994774          0.329346  \n",
      "Ceftamin                    6.268188          0.469821  \n",
      "Infubinol                   6.567243          0.492236  \n",
      "Ketapril                    8.279709          0.603860  \n",
      "Naftisol                    8.134708          0.596466  \n",
      "Placebo                     7.821003          0.581331  \n",
      "Propriva                    6.622085          0.544332  \n",
      "Ramicane                    4.846308          0.320955  \n",
      "Stelasyn                    7.710419          0.573111  \n",
      "Zoniferol                   6.966589          0.516398  \n"
     ]
    }
   ],
   "source": [
    "summary_stats = pd.DataFrame({\n",
    "    'Mean Tumor Volume': mean_tumor_vol,\n",
    "    'Median Tumor Volume': median_tumor_vol,\n",
    "    'Tumor Volume Variance': variance_tumor_vol,\n",
    "    'Tumor Volume std. Dev.':std_dev_tumor_vol,\n",
    "    'Tumor Volume SEM': sem_tumor_vol\n",
    "})\n",
    "print(summary_stats)"
   ]
  },
  {
   "cell_type": "code",
   "execution_count": 213,
   "id": "c2109de7-2925-4e2b-a28d-4be0ed40b6d4",
   "metadata": {
    "tags": []
   },
   "outputs": [],
   "source": [
    "# Generate a bar plot showing the total number of rows (Mouse ID/Timepoints) for each drug regimen using Pandas."
   ]
  },
  {
   "cell_type": "code",
   "execution_count": 214,
   "id": "b19a76bd-ed0a-403b-8a44-644ac8df1238",
   "metadata": {
    "tags": []
   },
   "outputs": [],
   "source": [
    "#group by \"Drug Regimen\" and count the number if entries for each regimen\n",
    "mice_timepoints = merged_data.groupby(\"Drug Regimen\")[\"Mouse ID\"].count()\n",
    "\n"
   ]
  },
  {
   "cell_type": "code",
   "execution_count": 215,
   "id": "a48a64f5-2722-4b60-b567-aa2d637f6e4b",
   "metadata": {
    "tags": []
   },
   "outputs": [],
   "source": [
    "#sort the values of the bar chart (Largest to smallest)\n",
    "mice_timepoints_sourted = mice_timepoints.sort_values(ascending=False)"
   ]
  },
  {
   "cell_type": "code",
   "execution_count": 220,
   "id": "188f14ee-b123-4187-adb6-fb1e20581c82",
   "metadata": {
    "tags": []
   },
   "outputs": [
    {
     "data": {
      "image/png": "[encoded data removed]",
      "text/plain": [
       "<Figure size 1000x600 with 1 Axes>"
      ]
     },
     "metadata": {},
     "output_type": "display_data"
    }
   ],
   "source": [
    "#Create a bar plot using the Pandas built-in plotting fuctionality\n",
    "ax = mice_timepoints_sourted.plot(kind=\"bar\", figsize=(10,6), color=\"blue\")\n",
    "# now lets set the labels and title\n",
    "ax.set_xlabel(\"Drug Regimen\")\n",
    "ax.set_ylabel(\"# of Observed Mouse Timepoints\")\n",
    "ax.set_title(\"Total number of Measurements\")\n",
    "#display the plot\n",
    "plt.show()"
   ]
  },
  {
   "cell_type": "code",
   "execution_count": null,
   "id": "2473465b-7f03-4386-8759-68d3cc00bbff",
   "metadata": {},
   "outputs": [],
   "source": []
  },
  {
   "cell_type": "code",
   "execution_count": null,
   "id": "9ffab2c4-14e7-4cf7-8fb7-b0ad7f5b18f0",
   "metadata": {},
   "outputs": [],
   "source": []
  },
  {
   "cell_type": "code",
   "execution_count": null,
   "id": "174377ae-3308-495d-a0cd-7e88d83168ec",
   "metadata": {},
   "outputs": [],
   "source": [
    "# Generate a pie plot showing the distribution of female versus male mice using Pandas"
   ]
  },
  {
   "cell_type": "code",
   "execution_count": null,
   "id": "e208f17c-9104-478f-9f7c-375574edb877",
   "metadata": {},
   "outputs": [],
   "source": []
  },
  {
   "cell_type": "code",
   "execution_count": null,
   "id": "db549a78-6fb5-4ad5-89fa-36c90febfb0e",
   "metadata": {},
   "outputs": [],
   "source": []
  },
  {
   "cell_type": "code",
   "execution_count": null,
   "id": "d48aee5c-aaf8-4c7f-b578-d8fb2f59469d",
   "metadata": {},
   "outputs": [],
   "source": []
  },
  {
   "cell_type": "code",
   "execution_count": null,
   "id": "f4b8cfd8-8c17-4b8a-92ca-f63e47b280b8",
   "metadata": {},
   "outputs": [],
   "source": []
  },
  {
   "cell_type": "code",
   "execution_count": null,
   "id": "2b1402bc-68b9-46ad-b251-365b9adf99da",
   "metadata": {},
   "outputs": [],
   "source": []
  },
  {
   "cell_type": "code",
   "execution_count": 105,
   "id": "4a545be0-326c-4d96-bef0-4fa9194c57c8",
   "metadata": {
    "tags": []
   },
   "outputs": [],
   "source": [
    "# plot the bar chart using pandas"
   ]
  },
  {
   "cell_type": "code",
   "execution_count": null,
   "id": "86f54c6b-412f-4d2f-ae00-ebaf009d8bdb",
   "metadata": {},
   "outputs": [],
   "source": []
  },
  {
   "cell_type": "code",
   "execution_count": null,
   "id": "3d42dda5-8f4c-4677-9679-74ba91c30d59",
   "metadata": {},
   "outputs": [],
   "source": []
  },
  {
   "cell_type": "code",
   "execution_count": null,
   "id": "6aea4f13-ba58-48fe-b3c5-175897b66182",
   "metadata": {},
   "outputs": [],
   "source": []
  },
  {
   "cell_type": "code",
   "execution_count": null,
   "id": "0116bf27-fc63-49dc-b1f8-a2375acbe47a",
   "metadata": {},
   "outputs": [],
   "source": []
  },
  {
   "cell_type": "code",
   "execution_count": null,
   "id": "8c4d68d6-c26e-487c-9f35-1d5df6f9b991",
   "metadata": {},
   "outputs": [],
   "source": []
  },
  {
   "cell_type": "code",
   "execution_count": null,
   "id": "222ac94f-bd15-410b-9351-53a53e46da6b",
   "metadata": {},
   "outputs": [],
   "source": []
  },
  {
   "cell_type": "code",
   "execution_count": null,
   "id": "24371039-5d90-4fd7-88f5-9cbec3d05402",
   "metadata": {},
   "outputs": [],
   "source": [
    "# Generate a pie plot showing the distribution of female versus male mice using pyplot"
   ]
  },
  {
   "cell_type": "code",
   "execution_count": null,
   "id": "30199681-c06c-427e-a8b0-38cbef7fabf2",
   "metadata": {},
   "outputs": [],
   "source": []
  },
  {
   "cell_type": "code",
   "execution_count": null,
   "id": "8a126cf2-cc19-441a-a7e1-a6d457ad96e2",
   "metadata": {},
   "outputs": [],
   "source": []
  },
  {
   "cell_type": "code",
   "execution_count": null,
   "id": "9639edea-27bb-4c6c-afa7-acf2edee8832",
   "metadata": {},
   "outputs": [],
   "source": []
  },
  {
   "cell_type": "code",
   "execution_count": null,
   "id": "34db44c4-20a6-4c43-a7ef-c8fecd906bca",
   "metadata": {},
   "outputs": [],
   "source": []
  },
  {
   "cell_type": "code",
   "execution_count": null,
   "id": "a4ca11dd-b9a1-4ff2-aef2-9863f5ba8f1e",
   "metadata": {},
   "outputs": [],
   "source": []
  }
 ],
 "metadata": {
  "kernelspec": {
   "display_name": "Python 3 (ipykernel)",
   "language": "python",
   "name": "python3"
  },
  "language_info": {
   "codemirror_mode": {
    "name": "ipython",
    "version": 3
   },
   "file_extension": ".py",
   "mimetype": "text/x-python",
   "name": "python",
   "nbconvert_exporter": "python",
   "pygments_lexer": "ipython3",
   "version": "3.11.5"
  }
 },
 "nbformat": 4,
 "nbformat_minor": 5
}
